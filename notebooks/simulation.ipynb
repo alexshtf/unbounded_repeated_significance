{
 "cells": [
  {
   "cell_type": "code",
   "execution_count": 2,
   "metadata": {},
   "outputs": [],
   "source": [
    "import repsig\n",
    "import numpy as np\n",
    "import matplotlib.pyplot as plt"
   ]
  },
  {
   "cell_type": "code",
   "execution_count": 3,
   "metadata": {},
   "outputs": [],
   "source": [
    "num_experiments = 10000 # num of A/B tests to simulate\n",
    "n = 10000               # num samples in each A/B test"
   ]
  },
  {
   "cell_type": "markdown",
   "metadata": {},
   "source": [
    "# Simulate revenue generation using zero-inflated LogNormal"
   ]
  },
  {
   "cell_type": "code",
   "execution_count": 4,
   "metadata": {},
   "outputs": [],
   "source": [
    "def rev_simulate(mean, n, zero_prob=0.1, lognorm_sigma=1.):\n",
    "    lognorm_mu = np.log(mean) - np.log1p(-zero_prob) - (lognorm_sigma ** 2) / 2\n",
    "    rev = np.random.lognormal(lognorm_mu, lognorm_sigma, size=n)\n",
    "    zero = np.random.binomial(1, 1 - zero_prob, size=n)\n",
    "    return rev * zero"
   ]
  },
  {
   "cell_type": "code",
   "execution_count": 5,
   "metadata": {},
   "outputs": [
    {
     "data": {
      "image/png": "[encoded data removed]",
      "text/plain": [
       "<Figure size 640x480 with 1 Axes>"
      ]
     },
     "metadata": {},
     "output_type": "display_data"
    }
   ],
   "source": [
    "plt.hist(rev_simulate(mean=10, n=100000), bins=20, range=(0, 100))\n",
    "plt.show()"
   ]
  },
  {
   "cell_type": "code",
   "execution_count": 6,
   "metadata": {},
   "outputs": [
    {
     "data": {
      "image/png": "[encoded data removed]",
      "text/plain": [
       "<Figure size 640x480 with 1 Axes>"
      ]
     },
     "metadata": {},
     "output_type": "display_data"
    }
   ],
   "source": [
    "# plot arcsinh (similar to log, but linear near zero) to show zero-inflation\n",
    "plt.hist(np.arcsinh(rev_simulate(mean=10, n=100000)), bins=20)\n",
    "plt.show()"
   ]
  },
  {
   "cell_type": "markdown",
   "metadata": {},
   "source": [
    "# Run A/B tests"
   ]
  },
  {
   "cell_type": "code",
   "execution_count": 7,
   "metadata": {},
   "outputs": [],
   "source": [
    "def cum_moments(X, axis=-1):\n",
    "    n = X.shape[axis]\n",
    "\n",
    "    sums = np.cumsum(X, axis=axis)\n",
    "    means = sums / np.arange(1, 1 + n)\n",
    "\n",
    "    sums_square = np.cumsum(np.square(X), axis=axis)\n",
    "    means_square = sums_square / np.arange(1, 1 + n)\n",
    "    variances = means_square - np.square(means)\n",
    "    return means, variances"
   ]
  },
  {
   "cell_type": "code",
   "execution_count": 8,
   "metadata": {},
   "outputs": [],
   "source": [
    "def extract_decision_points(num_points, *arrs):\n",
    "    num_samples = arrs[0].shape[0]\n",
    "    random_points = np.random.choice(num_samples, num_points - 1)\n",
    "    decision_points = np.r_[\n",
    "        np.sort(random_points), num_samples - 1\n",
    "    ]\n",
    "\n",
    "    def yield_arrays():\n",
    "        for arr in arrs:\n",
    "            yield arr[decision_points]\n",
    "        yield 1 + decision_points\n",
    "\n",
    "    return tuple(yield_arrays())"
   ]
  },
  {
   "cell_type": "code",
   "execution_count": 9,
   "metadata": {},
   "outputs": [],
   "source": [
    "def get_z_scores(X, Y, num_decision_points):\n",
    "    means_x, vars_x, ns_x = extract_decision_points(num_decision_points, *cum_moments(X))\n",
    "    means_y, vars_y, ns_y = extract_decision_points(num_decision_points, *cum_moments(Y))\n",
    "\n",
    "    diffs = means_y - means_x\n",
    "    sems = np.sqrt(vars_x / ns_x + vars_y / ns_y)\n",
    "    return diffs / sems"
   ]
  },
  {
   "cell_type": "code",
   "execution_count": 10,
   "metadata": {},
   "outputs": [
    {
     "name": "stdout",
     "output_type": "stream",
     "text": [
      "False rejects = 395/10000, which are 3.95%\n"
     ]
    }
   ],
   "source": [
    "x_mean_revenue = 3\n",
    "y_mean_revenue = 3\n",
    "num_decision_points = 28   # t in the paper\n",
    "repetition_fraction = 0.1  # u in the paper\n",
    "best_w = 1 - np.exp(-1/num_decision_points) # optimal w for geometric spending, in the paper\n",
    "\n",
    "false_rejects = 0\n",
    "for i in range(num_experiments):\n",
    "    # simulate revenue-generating event, and extract z-scores\n",
    "    X = rev_simulate(x_mean_revenue, n)\n",
    "    Y = rev_simulate(y_mean_revenue, n)\n",
    "    z_scores = get_z_scores(X, Y, num_decision_points)\n",
    "\n",
    "    # use repsig.ztest_with_repetitions for the z-test\n",
    "    rejected = repsig.ztest_with_repetitions(\n",
    "        z_scores,\n",
    "        repsig.auto_geo_budget(num_decision_points, num_decision_points / 2),\n",
    "        repsig.frac_repetitions(num_decision_points))\n",
    "    if rejected:\n",
    "        false_rejects += 1\n",
    "\n",
    "print(f'False rejects = {false_rejects}/{num_experiments}, which are {false_rejects / num_experiments:.2%}')"
   ]
  },
  {
   "cell_type": "code",
   "execution_count": null,
   "metadata": {},
   "outputs": [],
   "source": []
  }
 ],
 "metadata": {
  "kernelspec": {
   "display_name": ".venv",
   "language": "python",
   "name": "python3"
  },
  "language_info": {
   "codemirror_mode": {
    "name": "ipython",
    "version": 3
   },
   "file_extension": ".py",
   "mimetype": "text/x-python",
   "name": "python",
   "nbconvert_exporter": "python",
   "pygments_lexer": "ipython3",
   "version": "3.11.9"
  }
 },
 "nbformat": 4,
 "nbformat_minor": 2
}
